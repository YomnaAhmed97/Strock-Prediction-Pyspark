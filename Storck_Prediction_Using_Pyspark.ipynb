{
  "cells": [
    {
      "cell_type": "markdown",
      "metadata": {
        "id": "view-in-github",
        "colab_type": "text"
      },
      "source": [
        "<a href=\"https://colab.research.google.com/github/YomnaAhmed97/Strock-Prediction-Pyspark/blob/main/Storck_Prediction_Using_Pyspark.ipynb\" target=\"_parent\"><img src=\"https://colab.research.google.com/assets/colab-badge.svg\" alt=\"Open In Colab\"/></a>"
      ]
    },
    {
      "cell_type": "markdown",
      "id": "fa486f23",
      "metadata": {
        "id": "fa486f23"
      },
      "source": [
        "![image.png](attachment:image.png)"
      ]
    },
    {
      "cell_type": "markdown",
      "id": "8326ba88",
      "metadata": {
        "id": "8326ba88"
      },
      "source": [
        "## Objective:\n",
        "- The objective from this project is to create a <b>Logistic Regression Classifier</b> to predict the <b>Stroke Condition</b>.\n",
        "- <b>Stoke</b> is a condition in which either the blood flow to the brain stops or blood flow is excessive.\n",
        "- It is required to obtain <b>ROC > 0.65</b>."
      ]
    },
    {
      "cell_type": "markdown",
      "id": "0eb78c16",
      "metadata": {
        "id": "0eb78c16"
      },
      "source": [
        "### Data:\n",
        "- Data is provided in csv format in a file named <b>healthcare-dataset-stroke-data.csv</b>"
      ]
    },
    {
      "cell_type": "markdown",
      "id": "7c842b79",
      "metadata": {
        "id": "7c842b79"
      },
      "source": [
        "### Column names and data types are as follow:\n",
        "- id, integer.\n",
        "- gender, string.\n",
        "- age, double.\n",
        "- hypertension, integer.\n",
        "- heart_disease, integer.\n",
        "- ever_married, string.\n",
        "- work_type, string.\n",
        "- Residence_type, string.\n",
        "- avg_glucose_level, double.\n",
        "- bmi, double.\n",
        "- smoking_status, string.\n",
        "- stroke, integer <b>(Target Label)</b>.\n",
        "If the person has stroke the stroke label value is <b>\"1\"</b> otherwise <b>\"0\"</b>."
      ]
    },
    {
      "cell_type": "markdown",
      "id": "6971f788",
      "metadata": {
        "id": "6971f788"
      },
      "source": [
        "## To perform this task follow the following guiding steps:"
      ]
    },
    {
      "cell_type": "code",
      "source": [
        "from google.colab import drive\n",
        "drive.mount('/content/drive')"
      ],
      "metadata": {
        "id": "gccv3482bhUr",
        "colab": {
          "base_uri": "https://localhost:8080/"
        },
        "outputId": "84200847-f517-4408-cec5-55911150f963"
      },
      "id": "gccv3482bhUr",
      "execution_count": null,
      "outputs": [
        {
          "output_type": "stream",
          "name": "stdout",
          "text": [
            "Drive already mounted at /content/drive; to attempt to forcibly remount, call drive.mount(\"/content/drive\", force_remount=True).\n"
          ]
        }
      ]
    },
    {
      "cell_type": "markdown",
      "id": "e31bc851",
      "metadata": {
        "id": "e31bc851"
      },
      "source": [
        "### Create a spark session and import the required libraries"
      ]
    },
    {
      "cell_type": "code",
      "execution_count": null,
      "id": "ab3ba311",
      "metadata": {
        "id": "ab3ba311",
        "colab": {
          "base_uri": "https://localhost:8080/"
        },
        "outputId": "3dbaa0ca-1a5b-4206-d9ee-29e69fee87be"
      },
      "outputs": [
        {
          "output_type": "stream",
          "name": "stdout",
          "text": [
            "Looking in indexes: https://pypi.org/simple, https://us-python.pkg.dev/colab-wheels/public/simple/\n",
            "Requirement already satisfied: pyspark in /usr/local/lib/python3.7/dist-packages (3.3.0)\n",
            "Requirement already satisfied: py4j==0.10.9.5 in /usr/local/lib/python3.7/dist-packages (from pyspark) (0.10.9.5)\n"
          ]
        }
      ],
      "source": [
        "!pip install pyspark"
      ]
    },
    {
      "cell_type": "code",
      "execution_count": null,
      "id": "8616fe16",
      "metadata": {
        "id": "8616fe16"
      },
      "outputs": [],
      "source": [
        "from pyspark.sql import SparkSession\n",
        "spark = SparkSession.builder\\\n",
        "        .master(\"local\")\\\n",
        "        .appName(\"Colab\")\\\n",
        "        .config('spark.ui.port', '4050')\\\n",
        "        .getOrCreate()"
      ]
    },
    {
      "cell_type": "markdown",
      "id": "843b8468",
      "metadata": {
        "id": "843b8468"
      },
      "source": [
        "### Create a data schema programatically"
      ]
    },
    {
      "cell_type": "code",
      "source": [
        "from pyspark.sql.types import *\n",
        "schema = StructType([\n",
        "  StructField(\"id\", IntegerType(), True),\n",
        "  StructField(\"gender\", StringType(), True),\n",
        "  StructField(\"age\", DoubleType(), True),\n",
        "  StructField(\"hypertension\", IntegerType(), True),\n",
        "  StructField(\"heart_disease\", IntegerType(), True),\n",
        "  StructField(\"ever_married\", StringType(), True),\n",
        "  StructField(\"work_type\", StringType(), True),\n",
        "  StructField(\"Residence_type\", StringType(), True),\n",
        "  StructField(\"avg_glucose_level\", DoubleType(), True),\n",
        "  StructField(\"bmi\", DoubleType(), True),\n",
        "  StructField(\"smoking_status\", StringType(), True),\n",
        "  StructField(\"stroke\", IntegerType(), True)])"
      ],
      "metadata": {
        "id": "Cz2t09EtdYDs"
      },
      "id": "Cz2t09EtdYDs",
      "execution_count": null,
      "outputs": []
    },
    {
      "cell_type": "markdown",
      "id": "2d00718f",
      "metadata": {
        "id": "2d00718f"
      },
      "source": [
        "### Read the data using the standard DataReader (Key,Value) pairs format\n",
        "- Provide the schema and any other required options."
      ]
    },
    {
      "cell_type": "code",
      "execution_count": null,
      "id": "61fcc4cd",
      "metadata": {
        "id": "61fcc4cd"
      },
      "outputs": [],
      "source": [
        "df=spark.read.csv(\"/content/drive/MyDrive/Colab Notebooks/healthcare-dataset-stroke-data.csv\",schema=schema,header=True)"
      ]
    },
    {
      "cell_type": "markdown",
      "id": "974bc193",
      "metadata": {
        "id": "974bc193"
      },
      "source": [
        "### Explore the data \n",
        "#### You have to do the following:\n",
        "- Print the Schema.\n",
        "- Show the first 10 rows from the data.\n",
        "- Explore null values and show how many null values in each column.\n",
        "- Plot a count plot for the target label and <b>notice the graph</b>.\n",
        "- Perform any additional EDA you find useful."
      ]
    },
    {
      "cell_type": "code",
      "execution_count": null,
      "id": "353b6f34",
      "metadata": {
        "id": "353b6f34",
        "colab": {
          "base_uri": "https://localhost:8080/"
        },
        "outputId": "f01d4ef9-0675-4646-fbcb-f24cc2e55c7c"
      },
      "outputs": [
        {
          "output_type": "stream",
          "name": "stdout",
          "text": [
            "root\n",
            " |-- id: integer (nullable = true)\n",
            " |-- gender: string (nullable = true)\n",
            " |-- age: double (nullable = true)\n",
            " |-- hypertension: integer (nullable = true)\n",
            " |-- heart_disease: integer (nullable = true)\n",
            " |-- ever_married: string (nullable = true)\n",
            " |-- work_type: string (nullable = true)\n",
            " |-- Residence_type: string (nullable = true)\n",
            " |-- avg_glucose_level: double (nullable = true)\n",
            " |-- bmi: double (nullable = true)\n",
            " |-- smoking_status: string (nullable = true)\n",
            " |-- stroke: integer (nullable = true)\n",
            "\n"
          ]
        }
      ],
      "source": [
        "# Print the Schema\n",
        "df.printSchema()"
      ]
    },
    {
      "cell_type": "code",
      "source": [
        "# Show the first 10 rows from the data\n",
        "df.show(10)"
      ],
      "metadata": {
        "colab": {
          "base_uri": "https://localhost:8080/"
        },
        "id": "EPE70-cle_7y",
        "outputId": "76a7e9ad-2084-438f-ec7b-7c0e86a3e811"
      },
      "id": "EPE70-cle_7y",
      "execution_count": null,
      "outputs": [
        {
          "output_type": "stream",
          "name": "stdout",
          "text": [
            "+-----+------+----+------------+-------------+------------+-------------+--------------+-----------------+----+---------------+------+\n",
            "|   id|gender| age|hypertension|heart_disease|ever_married|    work_type|Residence_type|avg_glucose_level| bmi| smoking_status|stroke|\n",
            "+-----+------+----+------------+-------------+------------+-------------+--------------+-----------------+----+---------------+------+\n",
            "| 9046|  Male|67.0|           0|            1|         Yes|      Private|         Urban|           228.69|36.6|formerly smoked|     1|\n",
            "|51676|Female|61.0|           0|            0|         Yes|Self-employed|         Rural|           202.21|null|   never smoked|     1|\n",
            "|31112|  Male|80.0|           0|            1|         Yes|      Private|         Rural|           105.92|32.5|   never smoked|     1|\n",
            "|60182|Female|49.0|           0|            0|         Yes|      Private|         Urban|           171.23|34.4|         smokes|     1|\n",
            "| 1665|Female|79.0|           1|            0|         Yes|Self-employed|         Rural|           174.12|24.0|   never smoked|     1|\n",
            "|56669|  Male|81.0|           0|            0|         Yes|      Private|         Urban|           186.21|29.0|formerly smoked|     1|\n",
            "|53882|  Male|74.0|           1|            1|         Yes|      Private|         Rural|            70.09|27.4|   never smoked|     1|\n",
            "|10434|Female|69.0|           0|            0|          No|      Private|         Urban|            94.39|22.8|   never smoked|     1|\n",
            "|27419|Female|59.0|           0|            0|         Yes|      Private|         Rural|            76.15|null|        Unknown|     1|\n",
            "|60491|Female|78.0|           0|            0|         Yes|      Private|         Urban|            58.57|24.2|        Unknown|     1|\n",
            "+-----+------+----+------------+-------------+------------+-------------+--------------+-----------------+----+---------------+------+\n",
            "only showing top 10 rows\n",
            "\n"
          ]
        }
      ]
    },
    {
      "cell_type": "code",
      "source": [
        "# Explore null values and show how many null values in each column\n",
        "from pyspark.sql.functions import isnan, when, count, col\n",
        "\n",
        "df.select([count(when(isnan(i) | col(i).isNull(), i)).alias(i) for i in df.columns]).show()\n",
        "# There is null values in bmi coloum"
      ],
      "metadata": {
        "colab": {
          "base_uri": "https://localhost:8080/"
        },
        "id": "BU3J3PcefXhf",
        "outputId": "76fd5c23-aa51-4bee-9d27-1e8efc4efd5d"
      },
      "id": "BU3J3PcefXhf",
      "execution_count": null,
      "outputs": [
        {
          "output_type": "stream",
          "name": "stdout",
          "text": [
            "+---+------+---+------------+-------------+------------+---------+--------------+-----------------+---+--------------+------+\n",
            "| id|gender|age|hypertension|heart_disease|ever_married|work_type|Residence_type|avg_glucose_level|bmi|smoking_status|stroke|\n",
            "+---+------+---+------------+-------------+------------+---------+--------------+-----------------+---+--------------+------+\n",
            "|  0|     0|  0|           0|            0|           0|        0|             0|                0|201|             0|     0|\n",
            "+---+------+---+------------+-------------+------------+---------+--------------+-----------------+---+--------------+------+\n",
            "\n"
          ]
        }
      ]
    },
    {
      "cell_type": "code",
      "source": [
        "df.select('stroke').groupby('stroke').count().show()"
      ],
      "metadata": {
        "colab": {
          "base_uri": "https://localhost:8080/"
        },
        "id": "l99V4uYGflvO",
        "outputId": "f244321b-327f-4329-8ce9-9578e6f0175e"
      },
      "id": "l99V4uYGflvO",
      "execution_count": null,
      "outputs": [
        {
          "output_type": "stream",
          "name": "stdout",
          "text": [
            "+------+-----+\n",
            "|stroke|count|\n",
            "+------+-----+\n",
            "|     1|  249|\n",
            "|     0| 4861|\n",
            "+------+-----+\n",
            "\n"
          ]
        }
      ]
    },
    {
      "cell_type": "code",
      "source": [
        "# Plot a count plot for the target label and notice the graph\n",
        "import seaborn as sns\n",
        "\n",
        "sns.countplot(df.select('stroke').toPandas()['stroke'])"
      ],
      "metadata": {
        "colab": {
          "base_uri": "https://localhost:8080/",
          "height": 351
        },
        "id": "5qd6JoRZf3bC",
        "outputId": "96a54674-815e-4359-8d22-9a3eff21c0fc"
      },
      "id": "5qd6JoRZf3bC",
      "execution_count": null,
      "outputs": [
        {
          "output_type": "stream",
          "name": "stderr",
          "text": [
            "/usr/local/lib/python3.7/dist-packages/seaborn/_decorators.py:43: FutureWarning: Pass the following variable as a keyword arg: x. From version 0.12, the only valid positional argument will be `data`, and passing other arguments without an explicit keyword will result in an error or misinterpretation.\n",
            "  FutureWarning\n"
          ]
        },
        {
          "output_type": "execute_result",
          "data": {
            "text/plain": [
              "<matplotlib.axes._subplots.AxesSubplot at 0x7ff7bd588490>"
            ]
          },
          "metadata": {},
          "execution_count": 33
        },
        {
          "output_type": "display_data",
          "data": {
            "text/plain": [
              "<Figure size 432x288 with 1 Axes>"
            ],
            "image/png": "[encoded data removed]"
          },
          "metadata": {
            "needs_background": "light"
          }
        }
      ]
    },
    {
      "cell_type": "markdown",
      "source": [
        "Perform any additional EDA you find useful.\n",
        "From exploring the data, the data is unbalanced."
      ],
      "metadata": {
        "id": "VkBwTSPlgO2Y"
      },
      "id": "VkBwTSPlgO2Y"
    },
    {
      "cell_type": "code",
      "source": [
        "# Perform any additional EDA you find useful.\n",
        "# From exploring the data, the data is unbalanced."
      ],
      "metadata": {
        "id": "xPTQXrn5g6sH"
      },
      "id": "xPTQXrn5g6sH",
      "execution_count": null,
      "outputs": []
    },
    {
      "cell_type": "markdown",
      "id": "59b770cb",
      "metadata": {
        "id": "59b770cb"
      },
      "source": [
        "### Get the summary statistics of the age column\n",
        "- You will find the minimum age is about <b>0.08</b>.\n",
        "- Remove rows for the age below <b>2 years old</b>."
      ]
    },
    {
      "cell_type": "code",
      "execution_count": null,
      "id": "ed40fb11",
      "metadata": {
        "scrolled": false,
        "id": "ed40fb11",
        "outputId": "ea1053d7-5a2f-4419-e8cd-15df6072301f",
        "colab": {
          "base_uri": "https://localhost:8080/"
        }
      },
      "outputs": [
        {
          "output_type": "stream",
          "name": "stdout",
          "text": [
            "+-------+------------------+\n",
            "|summary|               age|\n",
            "+-------+------------------+\n",
            "|  count|              5110|\n",
            "|   mean|43.226614481409015|\n",
            "| stddev| 22.61264672311348|\n",
            "|    min|              0.08|\n",
            "|    max|              82.0|\n",
            "+-------+------------------+\n",
            "\n"
          ]
        }
      ],
      "source": [
        "# You will find the minimum age is about 0.08\n",
        "df.select('age').describe().show()"
      ]
    },
    {
      "cell_type": "code",
      "execution_count": null,
      "id": "cc99c0be",
      "metadata": {
        "id": "cc99c0be"
      },
      "outputs": [],
      "source": [
        "# Remove rows for the age below 2 years old\n",
        "df=df.filter('age >=2')"
      ]
    },
    {
      "cell_type": "code",
      "source": [
        "#df=df.filter('age >=2').show()"
      ],
      "metadata": {
        "id": "0dOX6miLiW-t"
      },
      "id": "0dOX6miLiW-t",
      "execution_count": null,
      "outputs": []
    },
    {
      "cell_type": "markdown",
      "id": "bf8c9498",
      "metadata": {
        "id": "bf8c9498"
      },
      "source": [
        "### Working with gender & smoking_status columns:\n",
        "- Select and show the gender & smoking_status columns\n",
        "- Get the distinct values for each column."
      ]
    },
    {
      "cell_type": "code",
      "source": [
        "# Select and show the gender & smoking_status columns\n",
        "df.select('gender','smoking_status').show()"
      ],
      "metadata": {
        "colab": {
          "base_uri": "https://localhost:8080/"
        },
        "id": "TAIC4nq6istg",
        "outputId": "b46ac0af-0e70-437c-b60b-63a34fdcf00b"
      },
      "id": "TAIC4nq6istg",
      "execution_count": null,
      "outputs": [
        {
          "output_type": "stream",
          "name": "stdout",
          "text": [
            "+------+---------------+\n",
            "|gender| smoking_status|\n",
            "+------+---------------+\n",
            "|  Male|formerly smoked|\n",
            "|Female|   never smoked|\n",
            "|  Male|   never smoked|\n",
            "|Female|         smokes|\n",
            "|Female|   never smoked|\n",
            "|  Male|formerly smoked|\n",
            "|  Male|   never smoked|\n",
            "|Female|   never smoked|\n",
            "|Female|        Unknown|\n",
            "|Female|        Unknown|\n",
            "|Female|   never smoked|\n",
            "|Female|         smokes|\n",
            "|Female|         smokes|\n",
            "|  Male|        Unknown|\n",
            "|Female|   never smoked|\n",
            "|Female|   never smoked|\n",
            "|  Male|         smokes|\n",
            "|  Male|         smokes|\n",
            "|Female|   never smoked|\n",
            "|  Male|        Unknown|\n",
            "+------+---------------+\n",
            "only showing top 20 rows\n",
            "\n"
          ]
        }
      ]
    },
    {
      "cell_type": "code",
      "execution_count": null,
      "id": "925a5ecd",
      "metadata": {
        "id": "925a5ecd",
        "outputId": "4942c331-81ab-4c54-c5e9-c5ecb9f4c9d8",
        "colab": {
          "base_uri": "https://localhost:8080/"
        }
      },
      "outputs": [
        {
          "output_type": "stream",
          "name": "stdout",
          "text": [
            "+------+\n",
            "|gender|\n",
            "+------+\n",
            "|Female|\n",
            "| Other|\n",
            "|  Male|\n",
            "+------+\n",
            "\n"
          ]
        }
      ],
      "source": [
        "# Get the distinct values for each column\n",
        "df.select('gender').distinct().show()"
      ]
    },
    {
      "cell_type": "code",
      "execution_count": null,
      "id": "9dfe35a4",
      "metadata": {
        "id": "9dfe35a4",
        "outputId": "560a37db-c95b-4b56-b2f3-56b13106ef94",
        "colab": {
          "base_uri": "https://localhost:8080/"
        }
      },
      "outputs": [
        {
          "output_type": "stream",
          "name": "stdout",
          "text": [
            "+---------------+\n",
            "| smoking_status|\n",
            "+---------------+\n",
            "|         smokes|\n",
            "|        Unknown|\n",
            "|   never smoked|\n",
            "|formerly smoked|\n",
            "+---------------+\n",
            "\n"
          ]
        }
      ],
      "source": [
        "df.select('smoking_status').distinct().show()"
      ]
    },
    {
      "cell_type": "markdown",
      "id": "850bdfe1",
      "metadata": {
        "id": "850bdfe1"
      },
      "source": [
        "#### Change the string values of the columns into numerical values as follow:\n",
        "1. Gender column:\n",
        "    * Male = 1 \n",
        "    * Female = 0 \n",
        "    * Other = 0 \n",
        "2. Smoking Status column:\n",
        "  * never smoked = 0\n",
        "  * Unknown = 0.5\n",
        "  * formerly smoked = 0.75\n",
        "  * smokes = 1.0\n"
      ]
    },
    {
      "cell_type": "code",
      "execution_count": null,
      "id": "355f2ef0",
      "metadata": {
        "id": "355f2ef0"
      },
      "outputs": [],
      "source": [
        "from pyspark.sql.functions import *\n",
        "gender_dic={'Male':1,'Female':0,'Other':0}\n",
        "smoking_dic={'never smoked':0.0,'Unknown':0.5,'formerly smoked':0.75,'smokes':1.0}"
      ]
    },
    {
      "cell_type": "code",
      "source": [
        "replace_gender=udf(lambda x : gender_dic[x],IntegerType())\n",
        "replace_smoking=udf(lambda x : smoking_dic[x],DoubleType())\n",
        "df=df.withColumn('gender',replace_gender('gender')).withColumn('smoking_status',replace_smoking('smoking_status'))"
      ],
      "metadata": {
        "id": "tGhEOE7nkQFR"
      },
      "id": "tGhEOE7nkQFR",
      "execution_count": null,
      "outputs": []
    },
    {
      "cell_type": "markdown",
      "id": "3da38a31",
      "metadata": {
        "id": "3da38a31"
      },
      "source": [
        "#### Show the output DataFrame\n",
        "- Select and show the gender & smoking_status columns after value changing.\n",
        "- Print schema for the new dataframe."
      ]
    },
    {
      "cell_type": "code",
      "execution_count": null,
      "id": "7df0cf29",
      "metadata": {
        "id": "7df0cf29",
        "colab": {
          "base_uri": "https://localhost:8080/"
        },
        "outputId": "3f8d86b2-7f61-4b50-d088-e268a7e3e060"
      },
      "outputs": [
        {
          "output_type": "stream",
          "name": "stdout",
          "text": [
            "+------+--------------+\n",
            "|gender|smoking_status|\n",
            "+------+--------------+\n",
            "|     1|          0.75|\n",
            "|     0|           0.0|\n",
            "|     1|           0.0|\n",
            "|     0|           1.0|\n",
            "|     0|           0.0|\n",
            "|     1|          0.75|\n",
            "|     1|           0.0|\n",
            "|     0|           0.0|\n",
            "|     0|           0.5|\n",
            "|     0|           0.5|\n",
            "|     0|           0.0|\n",
            "|     0|           1.0|\n",
            "|     0|           1.0|\n",
            "|     1|           0.5|\n",
            "|     0|           0.0|\n",
            "|     0|           0.0|\n",
            "|     1|           1.0|\n",
            "|     1|           1.0|\n",
            "|     0|           0.0|\n",
            "|     1|           0.5|\n",
            "+------+--------------+\n",
            "only showing top 20 rows\n",
            "\n"
          ]
        }
      ],
      "source": [
        "# Select and show the gender & smoking_status columns after value changing & with print\n",
        "df.select('gender','smoking_status').show()"
      ]
    },
    {
      "cell_type": "markdown",
      "id": "89ce3b77",
      "metadata": {
        "id": "89ce3b77"
      },
      "source": [
        "### Deal with null value according to your data analysis."
      ]
    },
    {
      "cell_type": "code",
      "execution_count": null,
      "id": "4d78cb87",
      "metadata": {
        "id": "4d78cb87"
      },
      "outputs": [],
      "source": [
        "# By using median imputer to avoid the influence of outliers in this column (see above distribution of bmi)\n",
        "from pyspark.ml.feature import Imputer\n",
        "median_imputer=Imputer(strategy='median',inputCol='bmi',outputCol='bmi')\n",
        "df=median_imputer.fit(df).transform(df)"
      ]
    },
    {
      "cell_type": "code",
      "source": [
        "df.select([count(when(isnan(i) | col(i).isNull(), i)).alias(i) for i in df.columns]).show()\n",
        "# There is no null values"
      ],
      "metadata": {
        "colab": {
          "base_uri": "https://localhost:8080/"
        },
        "id": "_5XisQ1FmW6q",
        "outputId": "6d7d0e32-09b8-4eac-f751-05e226d2d380"
      },
      "id": "_5XisQ1FmW6q",
      "execution_count": null,
      "outputs": [
        {
          "output_type": "stream",
          "name": "stdout",
          "text": [
            "+---+------+---+------------+-------------+------------+---------+--------------+-----------------+---+--------------+------+\n",
            "| id|gender|age|hypertension|heart_disease|ever_married|work_type|Residence_type|avg_glucose_level|bmi|smoking_status|stroke|\n",
            "+---+------+---+------------+-------------+------------+---------+--------------+-----------------+---+--------------+------+\n",
            "|  0|     0|  0|           0|            0|           0|        0|             0|                0|  0|             0|     0|\n",
            "+---+------+---+------------+-------------+------------+---------+--------------+-----------------+---+--------------+------+\n",
            "\n"
          ]
        }
      ]
    },
    {
      "cell_type": "markdown",
      "id": "053c429a",
      "metadata": {
        "id": "053c429a"
      },
      "source": [
        "### Split the data into training and test dataframes:\n",
        "- 80% training and 20% test.\n",
        "- seed = 42.\n",
        "- Save each dataframe as a parquet file"
      ]
    },
    {
      "cell_type": "code",
      "execution_count": null,
      "id": "0236ea8b",
      "metadata": {
        "id": "0236ea8b"
      },
      "outputs": [],
      "source": [
        "train_df,test_df=df.randomSplit([0.8,0.2],seed=42)"
      ]
    },
    {
      "cell_type": "markdown",
      "id": "78fa24da",
      "metadata": {
        "id": "78fa24da"
      },
      "source": [
        "### Read the saved Train and Test DataFrame:\n",
        "- Use the dataframes you read in the subsequent steps."
      ]
    },
    {
      "cell_type": "code",
      "execution_count": null,
      "id": "c3f5c1e3",
      "metadata": {
        "id": "c3f5c1e3",
        "colab": {
          "base_uri": "https://localhost:8080/"
        },
        "outputId": "8ac8011a-9021-4b90-fcbf-000ff1b3a609"
      },
      "outputs": [
        {
          "output_type": "stream",
          "name": "stdout",
          "text": [
            "+---+------+----+------------+-------------+------------+-------------+--------------+-----------------+----+--------------+------+\n",
            "| id|gender| age|hypertension|heart_disease|ever_married|    work_type|Residence_type|avg_glucose_level| bmi|smoking_status|stroke|\n",
            "+---+------+----+------------+-------------+------------+-------------+--------------+-----------------+----+--------------+------+\n",
            "| 67|     0|17.0|           0|            0|          No|      Private|         Urban|            92.97|28.2|          0.75|     0|\n",
            "| 77|     0|13.0|           0|            0|          No|     children|         Rural|            85.81|18.6|           0.5|     0|\n",
            "| 91|     0|42.0|           0|            0|          No|      Private|         Urban|            98.53|18.5|           0.0|     0|\n",
            "| 99|     0|31.0|           0|            0|          No|      Private|         Urban|           108.89|52.3|           0.5|     0|\n",
            "|121|     0|38.0|           0|            0|         Yes|      Private|         Urban|            91.44|28.2|           0.5|     0|\n",
            "|132|     0|80.0|           0|            0|         Yes|     Govt_job|         Urban|            84.86|28.2|           0.5|     0|\n",
            "|163|     0|20.0|           0|            0|          No|      Private|         Rural|            94.67|28.8|           0.5|     0|\n",
            "|170|     1|43.0|           0|            0|         Yes|     Govt_job|         Rural|            80.07|28.2|           0.0|     0|\n",
            "|172|     1| 8.0|           0|            0|          No|     children|         Urban|            78.76|28.2|           0.5|     0|\n",
            "|187|     0|20.0|           0|            0|          No|      Private|         Rural|            84.07|27.6|           1.0|     0|\n",
            "|210|     1|81.0|           0|            0|         Yes|Self-employed|         Rural|            91.54|31.4|           0.0|     1|\n",
            "|224|     0|23.0|           0|            0|          No|      Private|         Urban|           110.16|28.2|           0.0|     0|\n",
            "|239|     1|59.0|           1|            1|         Yes|      Private|         Rural|           246.53|27.2|          0.75|     0|\n",
            "|242|     1| 4.0|           0|            0|          No|     children|         Urban|            98.56|17.5|           0.5|     0|\n",
            "|247|     1|31.0|           0|            0|          No|      Private|         Urban|             72.6|31.6|           0.0|     0|\n",
            "|298|     0|41.0|           0|            0|         Yes|Self-employed|         Rural|            76.66|28.2|           0.5|     0|\n",
            "|315|     1|45.0|           0|            0|         Yes|      Private|         Rural|            65.42|39.7|           0.0|     0|\n",
            "|321|     0|79.0|           0|            0|          No|Self-employed|         Rural|            71.98|36.4|           0.0|     0|\n",
            "|347|     0|16.0|           0|            0|          No|      Private|         Urban|            89.45|28.2|           0.5|     0|\n",
            "|354|     0|65.0|           0|            0|         Yes|      Private|         Urban|            72.49|28.9|           1.0|     0|\n",
            "+---+------+----+------------+-------------+------------+-------------+--------------+-----------------+----+--------------+------+\n",
            "only showing top 20 rows\n",
            "\n"
          ]
        }
      ],
      "source": [
        "train_df.show()"
      ]
    },
    {
      "cell_type": "code",
      "source": [
        "test_df.show()"
      ],
      "metadata": {
        "colab": {
          "base_uri": "https://localhost:8080/"
        },
        "id": "khEtju5jm9dV",
        "outputId": "0c9ae3a0-53ba-4624-f6ab-4367a2bb9df6"
      },
      "id": "khEtju5jm9dV",
      "execution_count": null,
      "outputs": [
        {
          "output_type": "stream",
          "name": "stdout",
          "text": [
            "+----+------+----+------------+-------------+------------+-------------+--------------+-----------------+----+--------------+------+\n",
            "|  id|gender| age|hypertension|heart_disease|ever_married|    work_type|Residence_type|avg_glucose_level| bmi|smoking_status|stroke|\n",
            "+----+------+----+------------+-------------+------------+-------------+--------------+-----------------+----+--------------+------+\n",
            "|  84|     1|55.0|           0|            0|         Yes|      Private|         Urban|            89.17|31.5|           0.0|     0|\n",
            "| 129|     0|24.0|           0|            0|          No|      Private|         Urban|            97.55|26.2|           0.0|     0|\n",
            "| 156|     0|33.0|           0|            0|         Yes|      Private|         Rural|            86.97|42.2|           0.0|     0|\n",
            "| 205|     0|43.0|           0|            0|         Yes|      Private|         Rural|            88.23|37.6|           0.5|     0|\n",
            "| 259|     1|79.0|           0|            0|         Yes|      Private|         Urban|           198.79|24.9|           0.0|     0|\n",
            "| 338|     0|43.0|           0|            0|         Yes|      Private|         Rural|           110.32|28.4|           0.0|     0|\n",
            "| 394|     1|78.0|           1|            0|         Yes|Self-employed|         Rural|            75.19|27.6|           0.0|     0|\n",
            "| 491|     0|74.0|           0|            0|         Yes|Self-employed|         Urban|            74.96|26.6|           0.0|     1|\n",
            "| 587|     0|14.0|           0|            0|          No|     children|         Rural|            92.22|22.8|           0.5|     0|\n",
            "| 621|     1|69.0|           0|            0|         Yes|      Private|         Rural|           101.52|26.8|           1.0|     0|\n",
            "| 641|     1|52.0|           0|            0|         Yes|     Govt_job|         Rural|            87.26|40.1|           1.0|     0|\n",
            "| 712|     0|82.0|           1|            1|          No|      Private|         Rural|            84.03|26.5|          0.75|     1|\n",
            "| 724|     1|17.0|           0|            0|          No|      Private|         Rural|            81.77|44.7|           0.0|     0|\n",
            "| 739|     0|73.0|           0|            0|         Yes|Self-employed|         Rural|            79.69|28.2|          0.75|     0|\n",
            "| 820|     0|59.0|           1|            0|         Yes|      Private|         Rural|            99.06|23.4|           0.0|     0|\n",
            "| 924|     0|60.0|           0|            0|         Yes|     Govt_job|         Urban|            80.86|31.0|           1.0|     0|\n",
            "|1112|     0|14.0|           0|            0|          No|      Private|         Urban|            83.42|28.7|           0.0|     0|\n",
            "|1473|     1|69.0|           1|            0|         Yes|      Private|         Urban|           229.21|30.1|           1.0|     0|\n",
            "|1666|     1|70.0|           0|            0|         Yes|     Govt_job|         Urban|           202.55|28.2|          0.75|     0|\n",
            "|1686|     0|29.0|           0|            0|          No|      Private|         Urban|            71.89|27.6|           0.0|     0|\n",
            "+----+------+----+------------+-------------+------------+-------------+--------------+-----------------+----+--------------+------+\n",
            "only showing top 20 rows\n",
            "\n"
          ]
        }
      ]
    },
    {
      "cell_type": "markdown",
      "id": "987b4b40",
      "metadata": {
        "id": "987b4b40"
      },
      "source": [
        "### Create the model:\n",
        "- Perform feature engineering steps.\n",
        "- Create the logistic regression classifier.\n",
        "- Build the pipeline model that uses all feature engineering steps and the model.\n",
        "- Train the pipeline model using the trainig dataset."
      ]
    },
    {
      "cell_type": "code",
      "execution_count": null,
      "id": "3278e362",
      "metadata": {
        "id": "3278e362"
      },
      "outputs": [],
      "source": [
        "from pyspark.ml.feature import StringIndexer, OneHotEncoder,VectorAssembler\n",
        "from pyspark.ml import Pipeline\n",
        "\n",
        "str_cols=[i for i,t in train_df.dtypes if t=='string']\n",
        "index_cols=[i+'_index' for i in str_cols]\n",
        "OHE_cols=[i+'_OHE' for i in str_cols]\n",
        "\n",
        "string_indexer=StringIndexer(inputCols=str_cols,outputCols=index_cols,handleInvalid='skip')\n",
        "OHE=OneHotEncoder(inputCols=index_cols,outputCols=OHE_cols)"
      ]
    },
    {
      "cell_type": "code",
      "execution_count": null,
      "id": "4e41b352",
      "metadata": {
        "id": "4e41b352"
      },
      "outputs": [],
      "source": [
        "num_cols=[i for i,t in train_df.dtypes if (t!='string')&(i not in ['id','stroke'])]"
      ]
    },
    {
      "cell_type": "code",
      "execution_count": null,
      "id": "106453d7",
      "metadata": {
        "id": "106453d7",
        "colab": {
          "base_uri": "https://localhost:8080/"
        },
        "outputId": "b7be0225-53db-4e42-a75b-5cb1a9ffc399"
      },
      "outputs": [
        {
          "output_type": "execute_result",
          "data": {
            "text/plain": [
              "['gender',\n",
              " 'age',\n",
              " 'hypertension',\n",
              " 'heart_disease',\n",
              " 'avg_glucose_level',\n",
              " 'bmi',\n",
              " 'smoking_status']"
            ]
          },
          "metadata": {},
          "execution_count": 51
        }
      ],
      "source": [
        "num_cols"
      ]
    },
    {
      "cell_type": "code",
      "source": [
        "vector_cols=num_cols+OHE_cols\n",
        "vector_cols"
      ],
      "metadata": {
        "colab": {
          "base_uri": "https://localhost:8080/"
        },
        "id": "uRVE7jfRnmLE",
        "outputId": "45075b51-c437-4499-c382-2a0170cdc866"
      },
      "id": "uRVE7jfRnmLE",
      "execution_count": null,
      "outputs": [
        {
          "output_type": "execute_result",
          "data": {
            "text/plain": [
              "['gender',\n",
              " 'age',\n",
              " 'hypertension',\n",
              " 'heart_disease',\n",
              " 'avg_glucose_level',\n",
              " 'bmi',\n",
              " 'smoking_status',\n",
              " 'ever_married_OHE',\n",
              " 'work_type_OHE',\n",
              " 'Residence_type_OHE']"
            ]
          },
          "metadata": {},
          "execution_count": 52
        }
      ]
    },
    {
      "cell_type": "code",
      "source": [
        "vectorAss=VectorAssembler(inputCols=vector_cols,outputCol='features')"
      ],
      "metadata": {
        "id": "ccUpLvWnny6E"
      },
      "id": "ccUpLvWnny6E",
      "execution_count": null,
      "outputs": []
    },
    {
      "cell_type": "code",
      "source": [
        "# Create the final data\n",
        "from pyspark.ml.classification import LogisticRegression\n",
        "lr_model = LogisticRegression(featuresCol='features',labelCol='stroke')"
      ],
      "metadata": {
        "id": "URDboLFtqVY9"
      },
      "id": "URDboLFtqVY9",
      "execution_count": null,
      "outputs": []
    },
    {
      "cell_type": "code",
      "source": [
        "pipeline = Pipeline(stages=[string_indexer,OHE,vectorAss,lr_model])"
      ],
      "metadata": {
        "id": "hG3kLhCQqme2"
      },
      "id": "hG3kLhCQqme2",
      "execution_count": null,
      "outputs": []
    },
    {
      "cell_type": "markdown",
      "id": "a05c2677",
      "metadata": {
        "id": "a05c2677"
      },
      "source": [
        "### Perform predictions on tests dataframe:\n",
        "- Test the model using the test dataframe\n",
        "- Select and show the feature column.\n",
        "- Print the schema of the output dataframe.\n",
        "- Select and show both prediction and label columns.\n",
        "- Explore the results for the label column stroke=1. i.e. select both columns (prediction,stroke) for stroke=1.<b>notice the result.</b> \n",
        "- Count the predicted 1 and 0 values.<b>notice the result.</b>   "
      ]
    },
    {
      "cell_type": "code",
      "execution_count": null,
      "id": "d772bef6",
      "metadata": {
        "id": "d772bef6"
      },
      "outputs": [],
      "source": [
        "pred = pipeline.fit(train_df).transform(test_df)"
      ]
    },
    {
      "cell_type": "code",
      "execution_count": null,
      "id": "3ea267eb",
      "metadata": {
        "id": "3ea267eb",
        "colab": {
          "base_uri": "https://localhost:8080/"
        },
        "outputId": "8e4f5ba8-e1bc-402e-c3ab-f7a6114f031e"
      },
      "outputs": [
        {
          "output_type": "stream",
          "name": "stdout",
          "text": [
            "+----------+-----+\n",
            "|prediction|count|\n",
            "+----------+-----+\n",
            "|       0.0|  953|\n",
            "+----------+-----+\n",
            "\n"
          ]
        }
      ],
      "source": [
        "pred.select('prediction').groupby('prediction').count().show()\n",
        "# After notice the result: The model predict only the major class due to imbalanced data\n"
      ]
    },
    {
      "cell_type": "markdown",
      "id": "daec120f",
      "metadata": {
        "id": "daec120f"
      },
      "source": [
        "### Evaluate the model performance\n",
        "- Use <b>BinaryClassificationEvaluator</b>. This will calculate the <b>ROC</b>.\n",
        "- Set the parameters as follow:\n",
        "    - <b>rawPredictionCol='prediction'</b> and <b>labelCol='stroke'</b>"
      ]
    },
    {
      "cell_type": "code",
      "execution_count": null,
      "id": "a7b5ad25",
      "metadata": {
        "id": "a7b5ad25"
      },
      "outputs": [],
      "source": [
        "from pyspark.ml.evaluation import BinaryClassificationEvaluator"
      ]
    },
    {
      "cell_type": "code",
      "execution_count": null,
      "id": "44d3a1e6",
      "metadata": {
        "id": "44d3a1e6"
      },
      "outputs": [],
      "source": [
        "evaluatorROC = BinaryClassificationEvaluator(rawPredictionCol='prediction'\n",
        "                                             ,labelCol='stroke')"
      ]
    },
    {
      "cell_type": "code",
      "execution_count": null,
      "id": "3adbe41f",
      "metadata": {
        "id": "3adbe41f",
        "colab": {
          "base_uri": "https://localhost:8080/"
        },
        "outputId": "d5f23b33-0ff3-4fd6-e1ac-f1feb25ed509"
      },
      "outputs": [
        {
          "output_type": "execute_result",
          "data": {
            "text/plain": [
              "0.5"
            ]
          },
          "metadata": {},
          "execution_count": 66
        }
      ],
      "source": [
        "evaluatorROC.evaluate(pred)"
      ]
    },
    {
      "cell_type": "markdown",
      "id": "40206589",
      "metadata": {
        "id": "40206589"
      },
      "source": [
        "### Improve Model Performance\n",
        "- You may noticed that <b>the target label is imbalanced</b>.\n",
        "- LogisticRegression classifier has a special parameter <b>weightCol</b> to deal with imbalanced class.\n",
        "- In order to use this parameter you must have a <b>weightCol</b> in your training dataframe.\n",
        "- In order to create this column you will need to define a <b>UDF</b> and apply it to the target label column.\n",
        "- Create a LogisticRegression classifier with <b>weightCol</b> parameter.\n",
        "- Build and train a pipeline model with the new LogisticRegression.\n",
        "- Perform the prediction on the test dataframe. \n",
        "- Select and show both prediction and label columns.\n",
        "- Explore the results for the label column stroke=1. i.e. select both columns (prediction,stroke) for stroke=1.<b>notice the result.</b> \n",
        "- Count the predicted 1 and 0 values.<b>notice the result.</b>   \n",
        "- Evaluate the model performance exactly as in the previous step.\n",
        "### YOU SHOULD OBTAIN  ROC > 0.65\n",
        "<BR>\n",
        "<b><font color='red'>Note: feel free to deal with the imbalanced cluster with the above method or another. However, you can only use methods applied on SPARK DATAFRAME</font></b>"
      ]
    },
    {
      "cell_type": "code",
      "execution_count": null,
      "id": "03385adc",
      "metadata": {
        "id": "03385adc"
      },
      "outputs": [],
      "source": [
        "count1=train_df.select('stroke').groupby('stroke').count().filter('stroke==1').head()[1]\n",
        "count0=train_df.select('stroke').groupby('stroke').count().filter('stroke==0').head()[1]\n",
        "r1=count1/(count1+count0)\n",
        "r0=count0/(count1+count0)\n",
        "\n",
        "dic={0:r1,1:r0}"
      ]
    },
    {
      "cell_type": "code",
      "execution_count": null,
      "id": "00e034e9",
      "metadata": {
        "id": "00e034e9"
      },
      "outputs": [],
      "source": [
        "imbalanced=udf(lambda x :dic[x],DoubleType())\n",
        "train_df2=train_df.withColumn('weight',imbalanced('stroke'))"
      ]
    },
    {
      "cell_type": "code",
      "execution_count": null,
      "id": "66efa0c6",
      "metadata": {
        "id": "66efa0c6",
        "colab": {
          "base_uri": "https://localhost:8080/"
        },
        "outputId": "3a610dbb-44ab-4623-ebd5-60cee5feb9cb"
      },
      "outputs": [
        {
          "output_type": "stream",
          "name": "stdout",
          "text": [
            "+------+-------------------+\n",
            "|stroke|             weight|\n",
            "+------+-------------------+\n",
            "|     0|0.05003715630418628|\n",
            "|     0|0.05003715630418628|\n",
            "|     0|0.05003715630418628|\n",
            "|     0|0.05003715630418628|\n",
            "|     0|0.05003715630418628|\n",
            "|     0|0.05003715630418628|\n",
            "|     0|0.05003715630418628|\n",
            "|     0|0.05003715630418628|\n",
            "|     0|0.05003715630418628|\n",
            "|     0|0.05003715630418628|\n",
            "|     1| 0.9499628436958137|\n",
            "|     0|0.05003715630418628|\n",
            "|     0|0.05003715630418628|\n",
            "|     0|0.05003715630418628|\n",
            "|     0|0.05003715630418628|\n",
            "|     0|0.05003715630418628|\n",
            "|     0|0.05003715630418628|\n",
            "|     0|0.05003715630418628|\n",
            "|     0|0.05003715630418628|\n",
            "|     0|0.05003715630418628|\n",
            "+------+-------------------+\n",
            "only showing top 20 rows\n",
            "\n"
          ]
        }
      ],
      "source": [
        "train_df2.select('stroke','weight').show()"
      ]
    },
    {
      "cell_type": "code",
      "source": [
        "lr_model2=LogisticRegression(featuresCol='features',labelCol='stroke',maxIter=200,weightCol='weight')\n",
        "pipeline2 = Pipeline(stages=[string_indexer,OHE,vectorAss,lr_model2])"
      ],
      "metadata": {
        "id": "IJHnFLU4sygq"
      },
      "id": "IJHnFLU4sygq",
      "execution_count": null,
      "outputs": []
    },
    {
      "cell_type": "code",
      "source": [
        "pred2 = pipeline2.fit(train_df2).transform(test_df)"
      ],
      "metadata": {
        "id": "FMzL_nMEs9k7"
      },
      "id": "FMzL_nMEs9k7",
      "execution_count": null,
      "outputs": []
    },
    {
      "cell_type": "code",
      "source": [
        "evaluatorROC = BinaryClassificationEvaluator(rawPredictionCol='prediction'\n",
        "                                             ,labelCol='stroke')"
      ],
      "metadata": {
        "id": "ci817ibttGvO"
      },
      "id": "ci817ibttGvO",
      "execution_count": null,
      "outputs": []
    },
    {
      "cell_type": "code",
      "execution_count": null,
      "id": "4e8c18b5",
      "metadata": {
        "id": "4e8c18b5",
        "colab": {
          "base_uri": "https://localhost:8080/"
        },
        "outputId": "31cfe479-a311-48e8-ad51-a2a2b7b54706"
      },
      "outputs": [
        {
          "output_type": "execute_result",
          "data": {
            "text/plain": [
              "0.7757777671252577"
            ]
          },
          "metadata": {},
          "execution_count": 73
        }
      ],
      "source": [
        "evaluatorROC.evaluate(pred2)"
      ]
    },
    {
      "cell_type": "markdown",
      "id": "e00e7b53",
      "metadata": {
        "id": "e00e7b53"
      },
      "source": [
        "# GOOD LUCK\n",
        "<b><font color='GREEN'>AI-PRO Spark Team ITI</font></b>"
      ]
    },
    {
      "cell_type": "markdown",
      "id": "0e065922",
      "metadata": {
        "id": "0e065922"
      },
      "source": [
        "![image-3.png](attachment:image-3.png)"
      ]
    }
  ],
  "metadata": {
    "kernelspec": {
      "display_name": "Python 3 (ipykernel)",
      "language": "python",
      "name": "python3"
    },
    "language_info": {
      "codemirror_mode": {
        "name": "ipython",
        "version": 3
      },
      "file_extension": ".py",
      "mimetype": "text/x-python",
      "name": "python",
      "nbconvert_exporter": "python",
      "pygments_lexer": "ipython3",
      "version": "3.9.12"
    },
    "colab": {
      "provenance": [],
      "collapsed_sections": [],
      "include_colab_link": true
    }
  },
  "nbformat": 4,
  "nbformat_minor": 5
}